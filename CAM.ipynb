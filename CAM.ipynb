{
 "cells": [
  {
   "cell_type": "code",
   "execution_count": 81,
   "metadata": {},
   "outputs": [],
   "source": [
    "import torch\n",
    "from torch.autograd import Variable\n",
    "from torch.nn import functional as F\n",
    "import pickle\n",
    "import numpy as np\n",
    "from PIL import Image\n",
    "from matplotlib import pyplot as plt\n",
    "import random\n",
    "import os\n",
    "from CNN import mymodel\n",
    "from skimage import feature as ft\n",
    "from torchvision import transforms as transforms\n",
    "import cv2"
   ]
  },
  {
   "cell_type": "code",
   "execution_count": 84,
   "metadata": {},
   "outputs": [],
   "source": [
    "## Reading & Preparing Image Data##\n",
    "\n",
    "def unpickle(file):\n",
    "    import pickle\n",
    "    with open(file, 'rb') as fo:\n",
    "        dict = pickle.load(fo, encoding='bytes')\n",
    "    return dict\n",
    "\n",
    "def show_one_img(data,im_idx):\n",
    "    im = data[im_idx].reshape((3,32,32))\n",
    "    im = im.transpose(1,2,0)\n",
    "    return im"
   ]
  },
  {
   "cell_type": "code",
   "execution_count": 94,
   "metadata": {},
   "outputs": [
    {
     "data": {
      "text/plain": [
       "Text(0.5, 1.0, 'cat')"
      ]
     },
     "execution_count": 94,
     "metadata": {},
     "output_type": "execute_result"
    },
    {
     "data": {
      "image/png": "[encoded data removed]",
      "text/plain": [
       "<Figure size 432x288 with 1 Axes>"
      ]
     },
     "metadata": {
      "needs_background": "light"
     },
     "output_type": "display_data"
    }
   ],
   "source": [
    "##Random show one pic\n",
    "files = \"cifar-10-python/cifar-10-batches-py\"\n",
    "batch_idx = random.randint(1,5)\n",
    "img_idx = random.randint(0,9999)\n",
    "batch = \"data_batch_\"+str(batch_idx)\n",
    "file = os.path.join(files,batch)\n",
    "\n",
    "batch_dict = unpickle(file)\n",
    "imgs_data = batch_dict[b'data']\n",
    "imgs_data = np.array(imgs_data)\n",
    "imgs_label = batch_dict[b'labels']\n",
    "imgs_label = np.array(imgs_label)\n",
    "label_name=['airplane','automobile','brid','cat','deer','dog','frog','horse','ship','truck']\n",
    "\n",
    "img = show_one_img(imgs_data,img_idx)\n",
    "label = imgs_label[img_idx]\n",
    "\n",
    "\n",
    "plt.imshow(img)\n",
    "plt.title(label_name[label],color=\"r\")\n"
   ]
  },
  {
   "cell_type": "code",
   "execution_count": 95,
   "metadata": {},
   "outputs": [],
   "source": [
    "this_im = img\n",
    "this_label = label\n",
    "this_im = Image.fromarray(this_im)\n",
    "\n",
    "myTransforms = transforms.Compose([\n",
    "        transforms.Resize((224, 224)),\n",
    "        # transforms.RandomHorizontalFlip(p=0.5),\n",
    "        transforms.ToTensor(),\n",
    "        transforms.Normalize((0.485, 0.456, 0.406), (0.229, 0.224, 0.225))])\n",
    "\n",
    "im_trans = myTransforms(this_im)\n"
   ]
  },
  {
   "cell_type": "code",
   "execution_count": 96,
   "metadata": {},
   "outputs": [],
   "source": [
    "im_in = im_trans.unsqueeze(0)\n",
    "device =  torch.device(\"cuda\" if torch.cuda.is_available() else \"cpu\")"
   ]
  },
  {
   "cell_type": "code",
   "execution_count": 97,
   "metadata": {},
   "outputs": [
    {
     "data": {
      "text/plain": [
       "AlexNet(\n",
       "  (features): Sequential(\n",
       "    (0): Conv2d(3, 64, kernel_size=(11, 11), stride=(4, 4), padding=(2, 2))\n",
       "    (1): ReLU(inplace=True)\n",
       "    (2): MaxPool2d(kernel_size=3, stride=2, padding=0, dilation=1, ceil_mode=False)\n",
       "    (3): Conv2d(64, 192, kernel_size=(5, 5), stride=(1, 1), padding=(2, 2))\n",
       "    (4): ReLU(inplace=True)\n",
       "    (5): MaxPool2d(kernel_size=3, stride=2, padding=0, dilation=1, ceil_mode=False)\n",
       "    (6): Conv2d(192, 384, kernel_size=(3, 3), stride=(1, 1), padding=(1, 1))\n",
       "    (7): ReLU(inplace=True)\n",
       "    (8): Conv2d(384, 256, kernel_size=(3, 3), stride=(1, 1), padding=(1, 1))\n",
       "    (9): ReLU(inplace=True)\n",
       "    (10): Conv2d(256, 256, kernel_size=(3, 3), stride=(1, 1), padding=(1, 1))\n",
       "    (11): ReLU(inplace=True)\n",
       "    (12): MaxPool2d(kernel_size=3, stride=2, padding=0, dilation=1, ceil_mode=False)\n",
       "  )\n",
       "  (avgpool): AdaptiveAvgPool2d(output_size=(6, 6))\n",
       "  (classifier): Sequential(\n",
       "    (0): Linear(in_features=9216, out_features=4608, bias=True)\n",
       "    (1): ReLU()\n",
       "    (2): Linear(in_features=4608, out_features=10, bias=True)\n",
       "  )\n",
       ")"
      ]
     },
     "execution_count": 97,
     "metadata": {},
     "output_type": "execute_result"
    }
   ],
   "source": [
    "model = torch.load('trans_alex.pth')\n",
    "model.to(device)\n",
    "im_in = im_in.to(device)\n",
    "model\n"
   ]
  },
  {
   "cell_type": "code",
   "execution_count": 108,
   "metadata": {},
   "outputs": [],
   "source": [
    "def hook_feature(module, input, output):\n",
    "    features_blobs.append(output.data.cpu().numpy())\n",
    "\n",
    "def CAM(feature_conv, weight_softmax, weight_softmax2, class_idx):\n",
    "\n",
    "    size_upsample = (256, 256)\n",
    "    bz, nc, h, w = feature_conv.shape\n",
    "    output_cam = []\n",
    "    weight_softmax = weight_softmax.dot(weight_softmax2)\n",
    "    for idx in class_idx:\n",
    "\n",
    "        cam = weight_softmax[idx]*(feature_conv.reshape((nc*h*w)))\n",
    "        cam = cam.reshape(nc, h, w)\n",
    "        newcam = np.zeros((h,w))\n",
    "        for i in range(nc):\n",
    "            newcam = cam[i]+newcam\n",
    "        newcam = newcam - np.min(newcam)\n",
    "        cam_img = newcam / np.max(newcam)\n",
    "        cam_img = -np.uint8(255 * cam_img)\n",
    "        output_cam.append(cv2.resize(cam_img, size_upsample))\n",
    "    return output_cam"
   ]
  },
  {
   "cell_type": "code",
   "execution_count": 112,
   "metadata": {},
   "outputs": [
    {
     "name": "stdout",
     "output_type": "stream",
     "text": [
      "torch.Size([10])\n"
     ]
    }
   ],
   "source": [
    "model.eval()\n",
    "\n",
    "features_blobs = []\n",
    "model._modules.get('features').register_forward_hook(hook_feature)\n",
    "params = list(model.parameters())\n",
    "weight_softmax = np.squeeze(params[-2].data.cpu().numpy())\n",
    "weight_softmax2 = np.squeeze(params[-4].data.cpu().numpy())\n",
    "logit = model(im_in)\n",
    "h_x = F.softmax(logit, dim=1).data.squeeze()\t\n",
    "print(h_x.shape)\t\t\t\t\t\t# torch.Size([1000])\n",
    "probs, idx = h_x.sort(0, True)\t\n",
    "probs =  probs.cpu().numpy()\n",
    "idx = idx.cpu().numpy()\n",
    "\n",
    "CAMs = CAM(features_blobs[0], weight_softmax, weight_softmax2, [idx[0]])\n",
    "heatmap = cv2.applyColorMap(cv2.resize(CAMs[0],(32, 32)), cv2.COLORMAP_JET)\n",
    "\t\t\t\t"
   ]
  },
  {
   "cell_type": "code",
   "execution_count": 110,
   "metadata": {},
   "outputs": [
    {
     "data": {
      "text/plain": [
       "Text(0.5, 1.0, 'cat')"
      ]
     },
     "execution_count": 110,
     "metadata": {},
     "output_type": "execute_result"
    },
    {
     "data": {
      "image/png": "[encoded data removed]",
      "text/plain": [
       "<Figure size 432x288 with 1 Axes>"
      ]
     },
     "metadata": {
      "needs_background": "light"
     },
     "output_type": "display_data"
    }
   ],
   "source": [
    "plt.imshow(img)\n",
    "plt.title(label_name[label],color=\"r\")"
   ]
  },
  {
   "cell_type": "code",
   "execution_count": 111,
   "metadata": {},
   "outputs": [
    {
     "data": {
      "text/plain": [
       "<matplotlib.image.AxesImage at 0x23690fff460>"
      ]
     },
     "execution_count": 111,
     "metadata": {},
     "output_type": "execute_result"
    },
    {
     "data": {
      "image/png": "[encoded data removed]",
      "text/plain": [
       "<Figure size 432x288 with 1 Axes>"
      ]
     },
     "metadata": {
      "needs_background": "light"
     },
     "output_type": "display_data"
    }
   ],
   "source": [
    "plt.imshow(heatmap)"
   ]
  }
 ],
 "metadata": {
  "interpreter": {
   "hash": "cc5f70855ac006f3de45a3cc3b9e7d8d53845e50458809cb162b0174266dec97"
  },
  "kernelspec": {
   "display_name": "Python 3.8.3 ('base')",
   "language": "python",
   "name": "python3"
  },
  "language_info": {
   "codemirror_mode": {
    "name": "ipython",
    "version": 3
   },
   "file_extension": ".py",
   "mimetype": "text/x-python",
   "name": "python",
   "nbconvert_exporter": "python",
   "pygments_lexer": "ipython3",
   "version": "3.8.3"
  },
  "orig_nbformat": 4
 },
 "nbformat": 4,
 "nbformat_minor": 2
}
